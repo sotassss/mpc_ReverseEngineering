{
 "cells": [
  {
   "cell_type": "code",
   "execution_count": 1,
   "metadata": {},
   "outputs": [],
   "source": [
    "# モジュールのインポート\n",
    "import os\n",
    "import shutil\n",
    "from pathlib import Path\n",
    "from uuid import uuid4\n",
    "from dotenv import load_dotenv\n",
    "from langchain_openai import ChatOpenAI\n",
    "from langchain.document_loaders import PyPDFLoader\n",
    "from langchain.text_splitter import RecursiveCharacterTextSplitter\n",
    "from langchain.embeddings import OpenAIEmbeddings\n",
    "from langchain.schema import Document\n",
    "from langchain_chroma import Chroma\n",
    "from langchain_core.prompts import ChatPromptTemplate"
   ]
  },
  {
   "cell_type": "code",
   "execution_count": 3,
   "metadata": {},
   "outputs": [],
   "source": [
    "# chromaデータベースを初期化\n",
    "CHROMA_DIR = \"./chroma_langchain_db\"\n",
    "if os.path.exists(CHROMA_DIR):\n",
    "    shutil.rmtree(CHROMA_DIR)"
   ]
  },
  {
   "cell_type": "code",
   "execution_count": 2,
   "metadata": {},
   "outputs": [
    {
     "name": "stderr",
     "output_type": "stream",
     "text": [
      "C:\\Users\\1109685\\AppData\\Local\\Temp\\ipykernel_9560\\3608532029.py:3: LangChainDeprecationWarning: The class `OpenAIEmbeddings` was deprecated in LangChain 0.0.9 and will be removed in 1.0. An updated version of the class exists in the :class:`~langchain-openai package and should be used instead. To use it run `pip install -U :class:`~langchain-openai` and import as `from :class:`~langchain_openai import OpenAIEmbeddings``.\n",
      "  embeddings = OpenAIEmbeddings(model=\"text-embedding-3-small\")\n"
     ]
    }
   ],
   "source": [
    "# LLM、埋め込みモデルを初期化\n",
    "llm = ChatOpenAI(model=\"gpt-4o-mini\")\n",
    "embeddings = OpenAIEmbeddings(model=\"text-embedding-3-small\")\n",
    "db = Chroma(\n",
    "    collection_name=\"example_collection\",\n",
    "    embedding_function=embeddings,\n",
    "    persist_directory=\"./chroma_langchain_db\",\n",
    ")"
   ]
  },
  {
   "cell_type": "code",
   "execution_count": 10,
   "metadata": {},
   "outputs": [
    {
     "name": "stderr",
     "output_type": "stream",
     "text": [
      "Ignoring wrong pointing object 6 0 (offset 0)\n",
      "Ignoring wrong pointing object 8 0 (offset 0)\n",
      "Ignoring wrong pointing object 10 0 (offset 0)\n",
      "Ignoring wrong pointing object 35 0 (offset 0)\n"
     ]
    },
    {
     "name": "stdout",
     "output_type": "stream",
     "text": [
      "Loaded 3 pages from sample.pdf\n",
      "Split into 3 chunks\n"
     ]
    }
   ],
   "source": [
    "# pdfの読み込み\n",
    "pdf_path=\"sample.pdf\"\n",
    "loader = PyPDFLoader(pdf_path)\n",
    "documents = loader.load()\n",
    "print(f\"Loaded {len(documents)} pages from {pdf_path}\")\n",
    "\n",
    "# ドキュメントを分割（オプション：チャンクサイズの調整）\n",
    "splitter = RecursiveCharacterTextSplitter(chunk_size=1000, chunk_overlap=200)\n",
    "split_docs = splitter.split_documents(documents)\n",
    "print(f\"Split into {len(split_docs)} chunks\")"
   ]
  },
  {
   "cell_type": "code",
   "execution_count": 11,
   "metadata": {},
   "outputs": [
    {
     "data": {
      "text/plain": [
       "['e98a75f8-3b22-4f1d-aa56-c3a6ef88da47',\n",
       " '7bd7cb6e-9ab8-4007-87c7-52fd4fa6ea67',\n",
       " 'da582002-60a7-479e-b87a-494a5e87bc6f']"
      ]
     },
     "execution_count": 11,
     "metadata": {},
     "output_type": "execute_result"
    }
   ],
   "source": [
    "# ドキュメントをベクトルストアに追加\n",
    "file_paths = [pdf_path] * len(split_docs)  # 各ドキュメントのファイルパスを保持\n",
    "\n",
    "# Documentオブジェクトを作成\n",
    "docs = [\n",
    "    Document(page_content=doc.page_content, metadata={\"file_path\": file_path})\n",
    "    for doc, file_path in zip(split_docs, file_paths)\n",
    "]\n",
    "\n",
    "# 各ドキュメントにユニークなUUIDを生成\n",
    "uuids = [str(uuid4()) for _ in range(len(docs))]\n",
    "\n",
    "# ベクトルストアにドキュメントを追加\n",
    "db.add_documents(documents=docs, ids=uuids)"
   ]
  },
  {
   "cell_type": "code",
   "execution_count": 4,
   "metadata": {},
   "outputs": [],
   "source": [
    "# PDFをデータベースに保存\n",
    "def pdf_loader(pdf_path: str, persist_directory: str = \"./chroma_langchain_db\") -> Chroma:\n",
    "    global db\n",
    "\n",
    "    # chromaデータベースを初期化\n",
    "    CHROMA_DIR = \"./chroma_langchain_db\"\n",
    "    if os.path.exists(CHROMA_DIR):\n",
    "        shutil.rmtree(CHROMA_DIR)\n",
    "        \n",
    "    # # 既存のデータベースを削除して初期化\n",
    "    # if os.path.exists(persist_directory):\n",
    "    #     shutil.rmtree(persist_directory)\n",
    "    #     print(\"ベクトルストアを初期化しました\")\n",
    "    \n",
    "    # ベクトルストアを構築\n",
    "    embeddings = OpenAIEmbeddings(model=\"text-embedding-3-small\")\n",
    "    db = Chroma(\n",
    "        collection_name=\"example_collection\",\n",
    "        embedding_function=embeddings,\n",
    "        persist_directory=persist_directory,\n",
    "    )\n",
    "    \n",
    "    # PDF読み込み\n",
    "    loader = PyPDFLoader(pdf_path)\n",
    "    documents = loader.load()\n",
    "    print(f\"Loaded {len(documents)} pages from {pdf_path}\")\n",
    "    \n",
    "    # 分割\n",
    "    splitter = RecursiveCharacterTextSplitter(chunk_size=1000, chunk_overlap=200)\n",
    "    split_docs = splitter.split_documents(documents)\n",
    "    print(f\"Split into {len(split_docs)} chunks\")\n",
    "    \n",
    "    # 元のメタデータを保持しつつ、ファイルパスを追加\n",
    "    docs = []\n",
    "    for doc in split_docs:\n",
    "        # 元のメタデータをコピー\n",
    "        metadata = doc.metadata.copy() if hasattr(doc, 'metadata') and doc.metadata else {}\n",
    "        # ファイルパスを追加\n",
    "        metadata[\"file_path\"] = pdf_path\n",
    "        docs.append(Document(page_content=doc.page_content, metadata=metadata))\n",
    "    \n",
    "    # UUID生成\n",
    "    uuids = [str(uuid4()) for _ in range(len(docs))]\n",
    "    \n",
    "    # ベクトルストアに追加\n",
    "    db.add_documents(documents=docs, ids=uuids)\n",
    "    # db.persist()  # データベースを永続化\n",
    "    print(f\"{pdf_path}が保存されました\")\n",
    "    \n",
    "    return db  # 作成したdbインスタンスを返す"
   ]
  },
  {
   "cell_type": "code",
   "execution_count": 5,
   "metadata": {},
   "outputs": [],
   "source": [
    "# RAGの実装\n",
    "def answer_RAG(query: str, top_k: int = 2) -> str:\n",
    "    global db\n",
    "    search_results=db.similarity_search(query, k=top_k)\n",
    "\n",
    "    # 検索結果からドキュメントをまとめる\n",
    "    context = \"\\n\".join([result.page_content for result in search_results])\n",
    "\n",
    "    # LLMに質問を投げる\n",
    "    prompt = ChatPromptTemplate.from_messages(\n",
    "            [\n",
    "                (\n",
    "                    \"system\",\n",
    "                    \"あなたはチャットボットの回答作成者です。\"\n",
    "                ),\n",
    "                (\n",
    "                    \"human\",\n",
    "                    \"次の文脈に基づいて質問に回答してください。\\n\\n\"\n",
    "                    \"質問: {context}\\n\\n\"\n",
    "                    \"質問：{query}\\n\"\n",
    "                )\n",
    "            ]\n",
    "    )\n",
    "    chain = prompt | llm\n",
    "\n",
    "    answer = chain.invoke({\"context\": context, \"query\": query})\n",
    "    return answer"
   ]
  },
  {
   "cell_type": "code",
   "execution_count": null,
   "metadata": {},
   "outputs": [
    {
     "ename": "PermissionError",
     "evalue": "[WinError 32] プロセスはファイルにアクセスできません。別のプロセスが使用中です。: './chroma_langchain_db\\\\chroma.sqlite3'",
     "output_type": "error",
     "traceback": [
      "\u001b[1;31m---------------------------------------------------------------------------\u001b[0m",
      "\u001b[1;31mPermissionError\u001b[0m                           Traceback (most recent call last)",
      "Cell \u001b[1;32mIn[6], line 5\u001b[0m\n\u001b[0;32m      2\u001b[0m pdf_path\u001b[38;5;241m=\u001b[39m\u001b[38;5;124m\"\u001b[39m\u001b[38;5;124msample.pdf\u001b[39m\u001b[38;5;124m\"\u001b[39m\n\u001b[0;32m      3\u001b[0m query\u001b[38;5;241m=\u001b[39m\u001b[38;5;124m\"\u001b[39m\u001b[38;5;124mセクション2の内容は\u001b[39m\u001b[38;5;124m\"\u001b[39m\n\u001b[1;32m----> 5\u001b[0m \u001b[43mpdf_loader\u001b[49m\u001b[43m(\u001b[49m\u001b[43mpdf_path\u001b[49m\u001b[43m)\u001b[49m\n\u001b[0;32m      6\u001b[0m answer\u001b[38;5;241m=\u001b[39manswer_RAG(query)\n\u001b[0;32m      7\u001b[0m \u001b[38;5;28mprint\u001b[39m(answer\u001b[38;5;241m.\u001b[39mcontent)\n",
      "Cell \u001b[1;32mIn[4], line 8\u001b[0m, in \u001b[0;36mpdf_loader\u001b[1;34m(pdf_path, persist_directory)\u001b[0m\n\u001b[0;32m      6\u001b[0m CHROMA_DIR \u001b[38;5;241m=\u001b[39m \u001b[38;5;124m\"\u001b[39m\u001b[38;5;124m./chroma_langchain_db\u001b[39m\u001b[38;5;124m\"\u001b[39m\n\u001b[0;32m      7\u001b[0m \u001b[38;5;28;01mif\u001b[39;00m os\u001b[38;5;241m.\u001b[39mpath\u001b[38;5;241m.\u001b[39mexists(CHROMA_DIR):\n\u001b[1;32m----> 8\u001b[0m     \u001b[43mshutil\u001b[49m\u001b[38;5;241;43m.\u001b[39;49m\u001b[43mrmtree\u001b[49m\u001b[43m(\u001b[49m\u001b[43mCHROMA_DIR\u001b[49m\u001b[43m)\u001b[49m\n\u001b[0;32m     10\u001b[0m \u001b[38;5;66;03m# # 既存のデータベースを削除して初期化\u001b[39;00m\n\u001b[0;32m     11\u001b[0m \u001b[38;5;66;03m# if os.path.exists(persist_directory):\u001b[39;00m\n\u001b[0;32m     12\u001b[0m \u001b[38;5;66;03m#     shutil.rmtree(persist_directory)\u001b[39;00m\n\u001b[0;32m     13\u001b[0m \u001b[38;5;66;03m#     print(\"ベクトルストアを初期化しました\")\u001b[39;00m\n\u001b[0;32m     14\u001b[0m \n\u001b[0;32m     15\u001b[0m \u001b[38;5;66;03m# ベクトルストアを構築\u001b[39;00m\n\u001b[0;32m     16\u001b[0m embeddings \u001b[38;5;241m=\u001b[39m OpenAIEmbeddings(model\u001b[38;5;241m=\u001b[39m\u001b[38;5;124m\"\u001b[39m\u001b[38;5;124mtext-embedding-3-small\u001b[39m\u001b[38;5;124m\"\u001b[39m)\n",
      "File \u001b[1;32m~\\AppData\\Local\\Programs\\Python\\Python310\\lib\\shutil.py:750\u001b[0m, in \u001b[0;36mrmtree\u001b[1;34m(path, ignore_errors, onerror)\u001b[0m\n\u001b[0;32m    748\u001b[0m     \u001b[38;5;66;03m# can't continue even if onerror hook returns\u001b[39;00m\n\u001b[0;32m    749\u001b[0m     \u001b[38;5;28;01mreturn\u001b[39;00m\n\u001b[1;32m--> 750\u001b[0m \u001b[38;5;28;01mreturn\u001b[39;00m \u001b[43m_rmtree_unsafe\u001b[49m\u001b[43m(\u001b[49m\u001b[43mpath\u001b[49m\u001b[43m,\u001b[49m\u001b[43m \u001b[49m\u001b[43monerror\u001b[49m\u001b[43m)\u001b[49m\n",
      "File \u001b[1;32m~\\AppData\\Local\\Programs\\Python\\Python310\\lib\\shutil.py:620\u001b[0m, in \u001b[0;36m_rmtree_unsafe\u001b[1;34m(path, onerror)\u001b[0m\n\u001b[0;32m    618\u001b[0m             os\u001b[38;5;241m.\u001b[39munlink(fullname)\n\u001b[0;32m    619\u001b[0m         \u001b[38;5;28;01mexcept\u001b[39;00m \u001b[38;5;167;01mOSError\u001b[39;00m:\n\u001b[1;32m--> 620\u001b[0m             \u001b[43monerror\u001b[49m\u001b[43m(\u001b[49m\u001b[43mos\u001b[49m\u001b[38;5;241;43m.\u001b[39;49m\u001b[43munlink\u001b[49m\u001b[43m,\u001b[49m\u001b[43m \u001b[49m\u001b[43mfullname\u001b[49m\u001b[43m,\u001b[49m\u001b[43m \u001b[49m\u001b[43msys\u001b[49m\u001b[38;5;241;43m.\u001b[39;49m\u001b[43mexc_info\u001b[49m\u001b[43m(\u001b[49m\u001b[43m)\u001b[49m\u001b[43m)\u001b[49m\n\u001b[0;32m    621\u001b[0m \u001b[38;5;28;01mtry\u001b[39;00m:\n\u001b[0;32m    622\u001b[0m     os\u001b[38;5;241m.\u001b[39mrmdir(path)\n",
      "File \u001b[1;32m~\\AppData\\Local\\Programs\\Python\\Python310\\lib\\shutil.py:618\u001b[0m, in \u001b[0;36m_rmtree_unsafe\u001b[1;34m(path, onerror)\u001b[0m\n\u001b[0;32m    616\u001b[0m \u001b[38;5;28;01melse\u001b[39;00m:\n\u001b[0;32m    617\u001b[0m     \u001b[38;5;28;01mtry\u001b[39;00m:\n\u001b[1;32m--> 618\u001b[0m         \u001b[43mos\u001b[49m\u001b[38;5;241;43m.\u001b[39;49m\u001b[43munlink\u001b[49m\u001b[43m(\u001b[49m\u001b[43mfullname\u001b[49m\u001b[43m)\u001b[49m\n\u001b[0;32m    619\u001b[0m     \u001b[38;5;28;01mexcept\u001b[39;00m \u001b[38;5;167;01mOSError\u001b[39;00m:\n\u001b[0;32m    620\u001b[0m         onerror(os\u001b[38;5;241m.\u001b[39munlink, fullname, sys\u001b[38;5;241m.\u001b[39mexc_info())\n",
      "\u001b[1;31mPermissionError\u001b[0m: [WinError 32] プロセスはファイルにアクセスできません。別のプロセスが使用中です。: './chroma_langchain_db\\\\chroma.sqlite3'"
     ]
    },
    {
     "ename": "",
     "evalue": "",
     "output_type": "error",
     "traceback": [
      "\u001b[1;31mThe Kernel crashed while executing code in the current cell or a previous cell. \n",
      "\u001b[1;31mPlease review the code in the cell(s) to identify a possible cause of the failure. \n",
      "\u001b[1;31mClick <a href='https://aka.ms/vscodeJupyterKernelCrash'>here</a> for more info. \n",
      "\u001b[1;31mView Jupyter <a href='command:jupyter.viewOutput'>log</a> for further details."
     ]
    }
   ],
   "source": [
    "# queryを設定して実行\n",
    "pdf_path=\"sample.pdf\"\n",
    "query=\"セクション2の内容は\"\n",
    "\n",
    "pdf_loader(pdf_path)\n",
    "answer=answer_RAG(query)\n",
    "print(answer.content)"
   ]
  }
 ],
 "metadata": {
  "kernelspec": {
   "display_name": "venv_python_3_10",
   "language": "python",
   "name": "python3"
  },
  "language_info": {
   "codemirror_mode": {
    "name": "ipython",
    "version": 3
   },
   "file_extension": ".py",
   "mimetype": "text/x-python",
   "name": "python",
   "nbconvert_exporter": "python",
   "pygments_lexer": "ipython3",
   "version": "3.10.11"
  }
 },
 "nbformat": 4,
 "nbformat_minor": 2
}
